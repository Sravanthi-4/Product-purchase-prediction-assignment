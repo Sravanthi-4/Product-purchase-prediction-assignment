{
 "cells": [
  {
   "cell_type": "markdown",
   "id": "6b366c76",
   "metadata": {},
   "source": [
    "###### PreProcessing"
   ]
  },
  {
   "cell_type": "code",
   "execution_count": 1,
   "id": "4bd4bc16",
   "metadata": {},
   "outputs": [],
   "source": [
    "#import libraries\n",
    "import numpy as np\n",
    "import pandas as pd\n",
    "import seaborn as sns\n",
    "import matplotlib.pyplot as plt\n",
    "%matplotlib inline\n",
    "import shap\n",
    "\n",
    "from sklearn.preprocessing import LabelEncoder\n",
    "from sklearn.preprocessing import MinMaxScaler\n",
    "from sklearn.model_selection import train_test_split\n",
    "from sklearn import tree\n",
    "from sklearn.ensemble import RandomForestClassifier\n",
    "from sklearn.linear_model import LogisticRegression\n",
    "from sklearn import metrics\n",
    "from sklearn.metrics import accuracy_score, precision_score, recall_score, f1_score"
   ]
  },
  {
   "cell_type": "code",
   "execution_count": 2,
   "id": "c412e187",
   "metadata": {},
   "outputs": [
    {
     "data": {
      "text/html": [
       "<div>\n",
       "<style scoped>\n",
       "    .dataframe tbody tr th:only-of-type {\n",
       "        vertical-align: middle;\n",
       "    }\n",
       "\n",
       "    .dataframe tbody tr th {\n",
       "        vertical-align: top;\n",
       "    }\n",
       "\n",
       "    .dataframe thead th {\n",
       "        text-align: right;\n",
       "    }\n",
       "</style>\n",
       "<table border=\"1\" class=\"dataframe\">\n",
       "  <thead>\n",
       "    <tr style=\"text-align: right;\">\n",
       "      <th></th>\n",
       "      <th>Customer_ID</th>\n",
       "      <th>Var1</th>\n",
       "      <th>Var2</th>\n",
       "      <th>Group</th>\n",
       "      <th>Category</th>\n",
       "      <th>Rating</th>\n",
       "      <th>Purchased_ABC_product</th>\n",
       "    </tr>\n",
       "  </thead>\n",
       "  <tbody>\n",
       "    <tr>\n",
       "      <th>0</th>\n",
       "      <td>5518</td>\n",
       "      <td>41.534</td>\n",
       "      <td>12.123</td>\n",
       "      <td>G1</td>\n",
       "      <td>C1</td>\n",
       "      <td>Bronze</td>\n",
       "      <td>0</td>\n",
       "    </tr>\n",
       "    <tr>\n",
       "      <th>1</th>\n",
       "      <td>40515</td>\n",
       "      <td>9.445</td>\n",
       "      <td>0.256</td>\n",
       "      <td>G1</td>\n",
       "      <td>C1</td>\n",
       "      <td>Bronze</td>\n",
       "      <td>0</td>\n",
       "    </tr>\n",
       "    <tr>\n",
       "      <th>2</th>\n",
       "      <td>52697</td>\n",
       "      <td>37.599</td>\n",
       "      <td>3.199</td>\n",
       "      <td>G1</td>\n",
       "      <td>C2</td>\n",
       "      <td>Gold</td>\n",
       "      <td>0</td>\n",
       "    </tr>\n",
       "    <tr>\n",
       "      <th>3</th>\n",
       "      <td>68202</td>\n",
       "      <td>81.514</td>\n",
       "      <td>1.645</td>\n",
       "      <td>G1</td>\n",
       "      <td>C1</td>\n",
       "      <td>Silver</td>\n",
       "      <td>0</td>\n",
       "    </tr>\n",
       "    <tr>\n",
       "      <th>4</th>\n",
       "      <td>130003</td>\n",
       "      <td>46.805</td>\n",
       "      <td>1.706</td>\n",
       "      <td>G1</td>\n",
       "      <td>C1</td>\n",
       "      <td>Silver</td>\n",
       "      <td>0</td>\n",
       "    </tr>\n",
       "    <tr>\n",
       "      <th>...</th>\n",
       "      <td>...</td>\n",
       "      <td>...</td>\n",
       "      <td>...</td>\n",
       "      <td>...</td>\n",
       "      <td>...</td>\n",
       "      <td>...</td>\n",
       "      <td>...</td>\n",
       "    </tr>\n",
       "    <tr>\n",
       "      <th>30824</th>\n",
       "      <td>7047231</td>\n",
       "      <td>12.094</td>\n",
       "      <td>0.899</td>\n",
       "      <td>G5</td>\n",
       "      <td>C3</td>\n",
       "      <td>Bronze</td>\n",
       "      <td>1</td>\n",
       "    </tr>\n",
       "    <tr>\n",
       "      <th>30825</th>\n",
       "      <td>7079889</td>\n",
       "      <td>43.214</td>\n",
       "      <td>6.484</td>\n",
       "      <td>G5</td>\n",
       "      <td>C1</td>\n",
       "      <td>Bronze</td>\n",
       "      <td>1</td>\n",
       "    </tr>\n",
       "    <tr>\n",
       "      <th>30826</th>\n",
       "      <td>7155901</td>\n",
       "      <td>20.902</td>\n",
       "      <td>6.159</td>\n",
       "      <td>G5</td>\n",
       "      <td>C1</td>\n",
       "      <td>Bronze</td>\n",
       "      <td>1</td>\n",
       "    </tr>\n",
       "    <tr>\n",
       "      <th>30827</th>\n",
       "      <td>7180919</td>\n",
       "      <td>11.443</td>\n",
       "      <td>0.000</td>\n",
       "      <td>G5</td>\n",
       "      <td>C3</td>\n",
       "      <td>Bronze</td>\n",
       "      <td>0</td>\n",
       "    </tr>\n",
       "    <tr>\n",
       "      <th>30828</th>\n",
       "      <td>7182208</td>\n",
       "      <td>18.485</td>\n",
       "      <td>0.164</td>\n",
       "      <td>G5</td>\n",
       "      <td>C4</td>\n",
       "      <td>Bronze</td>\n",
       "      <td>0</td>\n",
       "    </tr>\n",
       "  </tbody>\n",
       "</table>\n",
       "<p>30829 rows × 7 columns</p>\n",
       "</div>"
      ],
      "text/plain": [
       "       Customer_ID    Var1    Var2 Group Category  Rating  \\\n",
       "0             5518  41.534  12.123    G1       C1  Bronze   \n",
       "1            40515   9.445   0.256    G1       C1  Bronze   \n",
       "2            52697  37.599   3.199    G1       C2    Gold   \n",
       "3            68202  81.514   1.645    G1       C1  Silver   \n",
       "4           130003  46.805   1.706    G1       C1  Silver   \n",
       "...            ...     ...     ...   ...      ...     ...   \n",
       "30824      7047231  12.094   0.899    G5       C3  Bronze   \n",
       "30825      7079889  43.214   6.484    G5       C1  Bronze   \n",
       "30826      7155901  20.902   6.159    G5       C1  Bronze   \n",
       "30827      7180919  11.443   0.000    G5       C3  Bronze   \n",
       "30828      7182208  18.485   0.164    G5       C4  Bronze   \n",
       "\n",
       "       Purchased_ABC_product  \n",
       "0                          0  \n",
       "1                          0  \n",
       "2                          0  \n",
       "3                          0  \n",
       "4                          0  \n",
       "...                      ...  \n",
       "30824                      1  \n",
       "30825                      1  \n",
       "30826                      1  \n",
       "30827                      0  \n",
       "30828                      0  \n",
       "\n",
       "[30829 rows x 7 columns]"
      ]
     },
     "execution_count": 2,
     "metadata": {},
     "output_type": "execute_result"
    }
   ],
   "source": [
    "data = pd.read_csv('DS_dataset.csv')\n",
    "data"
   ]
  },
  {
   "cell_type": "markdown",
   "id": "b980ee00",
   "metadata": {},
   "source": [
    "###### Data Cleaning\n",
    "- There are no duplicates and no missing values\n",
    "- Deal with outliers in Var1 and Var2"
   ]
  },
  {
   "cell_type": "code",
   "execution_count": 3,
   "id": "7198bbcc",
   "metadata": {},
   "outputs": [],
   "source": [
    "#function to identify and return the outliers\n",
    "outliers=[]\n",
    "def detect_outlier(x):\n",
    "    threshold=3\n",
    "    mean = np.mean(x)\n",
    "    std = np.std(x)\n",
    "    for i in x:\n",
    "        z = (i-mean)/std\n",
    "        if threshold < np.abs(z):\n",
    "            outliers.append(i)     \n",
    "    return(outliers)"
   ]
  },
  {
   "cell_type": "code",
   "execution_count": 4,
   "id": "f8904a5b",
   "metadata": {},
   "outputs": [
    {
     "data": {
      "text/plain": [
       "635"
      ]
     },
     "execution_count": 4,
     "metadata": {},
     "output_type": "execute_result"
    }
   ],
   "source": [
    "len(detect_outlier(data['Var1']))"
   ]
  },
  {
   "cell_type": "code",
   "execution_count": 5,
   "id": "f07b38e8",
   "metadata": {},
   "outputs": [
    {
     "data": {
      "text/plain": [
       "1223"
      ]
     },
     "execution_count": 5,
     "metadata": {},
     "output_type": "execute_result"
    }
   ],
   "source": [
    "len(detect_outlier(data['Var2']))"
   ]
  },
  {
   "cell_type": "markdown",
   "id": "d8d849f1",
   "metadata": {},
   "source": [
    "Almost 4 percentage of Var1 and 7 percentage of Var2 are outliers. \n",
    "Methods to deal with outliers:\n",
    "- Delete them\n",
    "- Cap and floor them\n",
    "- Replace with mean or median\n",
    "\n",
    "Going forward with any of these methods doesn't seem correct. Because it's a huge number to delete and as the feature is not truly known we might lose a lot of important data if we do so. Capping them or replacing would lead to very large number of values having the same value which might be whole different problem. \n",
    "- So I will just let them be and choose an appropriate model that would not be affected very much by outliers."
   ]
  },
  {
   "cell_type": "markdown",
   "id": "b5fa81a0",
   "metadata": {},
   "source": [
    "###### Data Transformation"
   ]
  },
  {
   "cell_type": "code",
   "execution_count": 6,
   "id": "e4d76ab4",
   "metadata": {},
   "outputs": [],
   "source": [
    "#reduce the skewness in var1 and var2\n",
    "#perform log transformation on var1, var2 to remove skewness\n",
    "data['Var1'] = np.log(data['Var1'])"
   ]
  },
  {
   "cell_type": "code",
   "execution_count": 7,
   "id": "ce07e96f",
   "metadata": {},
   "outputs": [
    {
     "data": {
      "text/html": [
       "<div>\n",
       "<style scoped>\n",
       "    .dataframe tbody tr th:only-of-type {\n",
       "        vertical-align: middle;\n",
       "    }\n",
       "\n",
       "    .dataframe tbody tr th {\n",
       "        vertical-align: top;\n",
       "    }\n",
       "\n",
       "    .dataframe thead th {\n",
       "        text-align: right;\n",
       "    }\n",
       "</style>\n",
       "<table border=\"1\" class=\"dataframe\">\n",
       "  <thead>\n",
       "    <tr style=\"text-align: right;\">\n",
       "      <th></th>\n",
       "      <th>Customer_ID</th>\n",
       "      <th>Var1</th>\n",
       "      <th>Var2</th>\n",
       "      <th>Group</th>\n",
       "      <th>Category</th>\n",
       "      <th>Rating</th>\n",
       "      <th>Purchased_ABC_product</th>\n",
       "    </tr>\n",
       "  </thead>\n",
       "  <tbody>\n",
       "    <tr>\n",
       "      <th>13</th>\n",
       "      <td>417265</td>\n",
       "      <td>3.126717</td>\n",
       "      <td>0.0</td>\n",
       "      <td>G1</td>\n",
       "      <td>C1</td>\n",
       "      <td>Bronze</td>\n",
       "      <td>0</td>\n",
       "    </tr>\n",
       "    <tr>\n",
       "      <th>16</th>\n",
       "      <td>695148</td>\n",
       "      <td>2.258842</td>\n",
       "      <td>0.0</td>\n",
       "      <td>G1</td>\n",
       "      <td>C1</td>\n",
       "      <td>Bronze</td>\n",
       "      <td>0</td>\n",
       "    </tr>\n",
       "    <tr>\n",
       "      <th>19</th>\n",
       "      <td>721109</td>\n",
       "      <td>3.325719</td>\n",
       "      <td>0.0</td>\n",
       "      <td>G1</td>\n",
       "      <td>C5</td>\n",
       "      <td>Silver</td>\n",
       "      <td>0</td>\n",
       "    </tr>\n",
       "    <tr>\n",
       "      <th>32</th>\n",
       "      <td>828848</td>\n",
       "      <td>1.724194</td>\n",
       "      <td>0.0</td>\n",
       "      <td>G1</td>\n",
       "      <td>C1</td>\n",
       "      <td>Bronze</td>\n",
       "      <td>0</td>\n",
       "    </tr>\n",
       "    <tr>\n",
       "      <th>39</th>\n",
       "      <td>1271374</td>\n",
       "      <td>2.139360</td>\n",
       "      <td>0.0</td>\n",
       "      <td>G4</td>\n",
       "      <td>C1</td>\n",
       "      <td>Bronze</td>\n",
       "      <td>0</td>\n",
       "    </tr>\n",
       "    <tr>\n",
       "      <th>...</th>\n",
       "      <td>...</td>\n",
       "      <td>...</td>\n",
       "      <td>...</td>\n",
       "      <td>...</td>\n",
       "      <td>...</td>\n",
       "      <td>...</td>\n",
       "      <td>...</td>\n",
       "    </tr>\n",
       "    <tr>\n",
       "      <th>30784</th>\n",
       "      <td>4761165</td>\n",
       "      <td>2.637985</td>\n",
       "      <td>0.0</td>\n",
       "      <td>G1</td>\n",
       "      <td>C1</td>\n",
       "      <td>Bronze</td>\n",
       "      <td>0</td>\n",
       "    </tr>\n",
       "    <tr>\n",
       "      <th>30793</th>\n",
       "      <td>5925222</td>\n",
       "      <td>0.576613</td>\n",
       "      <td>0.0</td>\n",
       "      <td>G1</td>\n",
       "      <td>C1</td>\n",
       "      <td>Bronze</td>\n",
       "      <td>0</td>\n",
       "    </tr>\n",
       "    <tr>\n",
       "      <th>30808</th>\n",
       "      <td>6659096</td>\n",
       "      <td>3.143419</td>\n",
       "      <td>0.0</td>\n",
       "      <td>G5</td>\n",
       "      <td>C3</td>\n",
       "      <td>Bronze</td>\n",
       "      <td>0</td>\n",
       "    </tr>\n",
       "    <tr>\n",
       "      <th>30815</th>\n",
       "      <td>6833677</td>\n",
       "      <td>2.523486</td>\n",
       "      <td>0.0</td>\n",
       "      <td>G1</td>\n",
       "      <td>C1</td>\n",
       "      <td>Bronze</td>\n",
       "      <td>0</td>\n",
       "    </tr>\n",
       "    <tr>\n",
       "      <th>30827</th>\n",
       "      <td>7180919</td>\n",
       "      <td>2.437378</td>\n",
       "      <td>0.0</td>\n",
       "      <td>G5</td>\n",
       "      <td>C3</td>\n",
       "      <td>Bronze</td>\n",
       "      <td>0</td>\n",
       "    </tr>\n",
       "  </tbody>\n",
       "</table>\n",
       "<p>4192 rows × 7 columns</p>\n",
       "</div>"
      ],
      "text/plain": [
       "       Customer_ID      Var1  Var2 Group Category  Rating  \\\n",
       "13          417265  3.126717   0.0    G1       C1  Bronze   \n",
       "16          695148  2.258842   0.0    G1       C1  Bronze   \n",
       "19          721109  3.325719   0.0    G1       C5  Silver   \n",
       "32          828848  1.724194   0.0    G1       C1  Bronze   \n",
       "39         1271374  2.139360   0.0    G4       C1  Bronze   \n",
       "...            ...       ...   ...   ...      ...     ...   \n",
       "30784      4761165  2.637985   0.0    G1       C1  Bronze   \n",
       "30793      5925222  0.576613   0.0    G1       C1  Bronze   \n",
       "30808      6659096  3.143419   0.0    G5       C3  Bronze   \n",
       "30815      6833677  2.523486   0.0    G1       C1  Bronze   \n",
       "30827      7180919  2.437378   0.0    G5       C3  Bronze   \n",
       "\n",
       "       Purchased_ABC_product  \n",
       "13                         0  \n",
       "16                         0  \n",
       "19                         0  \n",
       "32                         0  \n",
       "39                         0  \n",
       "...                      ...  \n",
       "30784                      0  \n",
       "30793                      0  \n",
       "30808                      0  \n",
       "30815                      0  \n",
       "30827                      0  \n",
       "\n",
       "[4192 rows x 7 columns]"
      ]
     },
     "execution_count": 7,
     "metadata": {},
     "output_type": "execute_result"
    }
   ],
   "source": [
    "#check for zeroes because they raise an error as log of zero is not defined\n",
    "data[data['Var2'] == 0]"
   ]
  },
  {
   "cell_type": "markdown",
   "id": "777ee55a",
   "metadata": {},
   "source": [
    "- 4192 rows have 0 at var2. Increment var2 with 1 and find the log of those values"
   ]
  },
  {
   "cell_type": "code",
   "execution_count": 8,
   "id": "71b028d3",
   "metadata": {},
   "outputs": [],
   "source": [
    "data['Var2'] = np.log(data['Var2']+1)"
   ]
  },
  {
   "cell_type": "code",
   "execution_count": 9,
   "id": "ea121c30",
   "metadata": {},
   "outputs": [
    {
     "data": {
      "text/plain": [
       "<AxesSubplot:xlabel='Var2', ylabel='Count'>"
      ]
     },
     "execution_count": 9,
     "metadata": {},
     "output_type": "execute_result"
    },
    {
     "data": {
      "image/png": "[encoded data removed]",
      "text/plain": [
       "<Figure size 864x360 with 2 Axes>"
      ]
     },
     "metadata": {
      "needs_background": "light"
     },
     "output_type": "display_data"
    }
   ],
   "source": [
    "plt.figure(figsize=(12,5))\n",
    "plt.subplot(1,2,1)\n",
    "sns.histplot(data['Var1'])\n",
    "\n",
    "plt.subplot(1,2,2)\n",
    "sns.histplot(data['Var2'])"
   ]
  },
  {
   "cell_type": "markdown",
   "id": "d395e084",
   "metadata": {},
   "source": [
    "- We achived an approximate normal distribution for var1.\n",
    "- We also achieved a distribution similar to normal for var2 except for the huge spike at the start. This spike is due to all the zeroes present in var2 that were converted to 1 and then transformed."
   ]
  },
  {
   "cell_type": "code",
   "execution_count": 10,
   "id": "f235ff88",
   "metadata": {},
   "outputs": [],
   "source": [
    "#data scaling - normalization\n",
    "N = MinMaxScaler()"
   ]
  },
  {
   "cell_type": "code",
   "execution_count": 11,
   "id": "42ff6582",
   "metadata": {},
   "outputs": [],
   "source": [
    "data_norm = N.fit_transform(data[['Var1','Var2']])\n",
    "data_new = pd.DataFrame(data_norm)"
   ]
  },
  {
   "cell_type": "code",
   "execution_count": 12,
   "id": "3a41897b",
   "metadata": {},
   "outputs": [],
   "source": [
    "data['Var1'] = data_new[0]\n",
    "data['Var2'] = data_new[1]"
   ]
  },
  {
   "cell_type": "code",
   "execution_count": 13,
   "id": "c002ba07",
   "metadata": {},
   "outputs": [],
   "source": [
    "#encoding\n",
    "data['Rating']=data['Rating'].replace({'Gold':2 , 'Silver':1,'Bronze':0})"
   ]
  },
  {
   "cell_type": "code",
   "execution_count": 14,
   "id": "127a3c1e",
   "metadata": {},
   "outputs": [],
   "source": [
    "#group and category have values with more than 2 categories and are nominal so use label encoder to encode those values \n",
    "feature_col = ['Group','Category']\n",
    "le = LabelEncoder()\n",
    "for col in feature_col:\n",
    "    data[col] = le.fit_transform(data[col])\n",
    "    data[col] = le.fit_transform(data[col])"
   ]
  },
  {
   "cell_type": "code",
   "execution_count": 15,
   "id": "c372b05a",
   "metadata": {},
   "outputs": [
    {
     "data": {
      "text/html": [
       "<div>\n",
       "<style scoped>\n",
       "    .dataframe tbody tr th:only-of-type {\n",
       "        vertical-align: middle;\n",
       "    }\n",
       "\n",
       "    .dataframe tbody tr th {\n",
       "        vertical-align: top;\n",
       "    }\n",
       "\n",
       "    .dataframe thead th {\n",
       "        text-align: right;\n",
       "    }\n",
       "</style>\n",
       "<table border=\"1\" class=\"dataframe\">\n",
       "  <thead>\n",
       "    <tr style=\"text-align: right;\">\n",
       "      <th></th>\n",
       "      <th>Customer_ID</th>\n",
       "      <th>Var1</th>\n",
       "      <th>Var2</th>\n",
       "      <th>Group</th>\n",
       "      <th>Category</th>\n",
       "      <th>Rating</th>\n",
       "      <th>Purchased_ABC_product</th>\n",
       "    </tr>\n",
       "  </thead>\n",
       "  <tbody>\n",
       "    <tr>\n",
       "      <th>0</th>\n",
       "      <td>5518</td>\n",
       "      <td>0.545922</td>\n",
       "      <td>0.446687</td>\n",
       "      <td>0</td>\n",
       "      <td>0</td>\n",
       "      <td>0</td>\n",
       "      <td>0</td>\n",
       "    </tr>\n",
       "    <tr>\n",
       "      <th>1</th>\n",
       "      <td>40515</td>\n",
       "      <td>0.387661</td>\n",
       "      <td>0.039549</td>\n",
       "      <td>0</td>\n",
       "      <td>0</td>\n",
       "      <td>0</td>\n",
       "      <td>0</td>\n",
       "    </tr>\n",
       "    <tr>\n",
       "      <th>2</th>\n",
       "      <td>52697</td>\n",
       "      <td>0.535286</td>\n",
       "      <td>0.248965</td>\n",
       "      <td>0</td>\n",
       "      <td>1</td>\n",
       "      <td>2</td>\n",
       "      <td>0</td>\n",
       "    </tr>\n",
       "    <tr>\n",
       "      <th>3</th>\n",
       "      <td>68202</td>\n",
       "      <td>0.617973</td>\n",
       "      <td>0.168771</td>\n",
       "      <td>0</td>\n",
       "      <td>0</td>\n",
       "      <td>1</td>\n",
       "      <td>0</td>\n",
       "    </tr>\n",
       "    <tr>\n",
       "      <th>4</th>\n",
       "      <td>130003</td>\n",
       "      <td>0.558690</td>\n",
       "      <td>0.172728</td>\n",
       "      <td>0</td>\n",
       "      <td>0</td>\n",
       "      <td>1</td>\n",
       "      <td>0</td>\n",
       "    </tr>\n",
       "    <tr>\n",
       "      <th>...</th>\n",
       "      <td>...</td>\n",
       "      <td>...</td>\n",
       "      <td>...</td>\n",
       "      <td>...</td>\n",
       "      <td>...</td>\n",
       "      <td>...</td>\n",
       "      <td>...</td>\n",
       "    </tr>\n",
       "    <tr>\n",
       "      <th>30824</th>\n",
       "      <td>7047231</td>\n",
       "      <td>0.414080</td>\n",
       "      <td>0.111279</td>\n",
       "      <td>4</td>\n",
       "      <td>2</td>\n",
       "      <td>0</td>\n",
       "      <td>1</td>\n",
       "    </tr>\n",
       "    <tr>\n",
       "      <th>30825</th>\n",
       "      <td>7079889</td>\n",
       "      <td>0.550160</td>\n",
       "      <td>0.349242</td>\n",
       "      <td>4</td>\n",
       "      <td>0</td>\n",
       "      <td>0</td>\n",
       "      <td>1</td>\n",
       "    </tr>\n",
       "    <tr>\n",
       "      <th>30826</th>\n",
       "      <td>7155901</td>\n",
       "      <td>0.472546</td>\n",
       "      <td>0.341539</td>\n",
       "      <td>4</td>\n",
       "      <td>0</td>\n",
       "      <td>0</td>\n",
       "      <td>1</td>\n",
       "    </tr>\n",
       "    <tr>\n",
       "      <th>30827</th>\n",
       "      <td>7180919</td>\n",
       "      <td>0.408167</td>\n",
       "      <td>0.000000</td>\n",
       "      <td>4</td>\n",
       "      <td>2</td>\n",
       "      <td>0</td>\n",
       "      <td>0</td>\n",
       "    </tr>\n",
       "    <tr>\n",
       "      <th>30828</th>\n",
       "      <td>7182208</td>\n",
       "      <td>0.459414</td>\n",
       "      <td>0.026350</td>\n",
       "      <td>4</td>\n",
       "      <td>3</td>\n",
       "      <td>0</td>\n",
       "      <td>0</td>\n",
       "    </tr>\n",
       "  </tbody>\n",
       "</table>\n",
       "<p>30829 rows × 7 columns</p>\n",
       "</div>"
      ],
      "text/plain": [
       "       Customer_ID      Var1      Var2  Group  Category  Rating  \\\n",
       "0             5518  0.545922  0.446687      0         0       0   \n",
       "1            40515  0.387661  0.039549      0         0       0   \n",
       "2            52697  0.535286  0.248965      0         1       2   \n",
       "3            68202  0.617973  0.168771      0         0       1   \n",
       "4           130003  0.558690  0.172728      0         0       1   \n",
       "...            ...       ...       ...    ...       ...     ...   \n",
       "30824      7047231  0.414080  0.111279      4         2       0   \n",
       "30825      7079889  0.550160  0.349242      4         0       0   \n",
       "30826      7155901  0.472546  0.341539      4         0       0   \n",
       "30827      7180919  0.408167  0.000000      4         2       0   \n",
       "30828      7182208  0.459414  0.026350      4         3       0   \n",
       "\n",
       "       Purchased_ABC_product  \n",
       "0                          0  \n",
       "1                          0  \n",
       "2                          0  \n",
       "3                          0  \n",
       "4                          0  \n",
       "...                      ...  \n",
       "30824                      1  \n",
       "30825                      1  \n",
       "30826                      1  \n",
       "30827                      0  \n",
       "30828                      0  \n",
       "\n",
       "[30829 rows x 7 columns]"
      ]
     },
     "execution_count": 15,
     "metadata": {},
     "output_type": "execute_result"
    }
   ],
   "source": [
    "data"
   ]
  },
  {
   "cell_type": "markdown",
   "id": "d36668f0",
   "metadata": {},
   "source": [
    "- The final data is ready. Proceed to model building and selection"
   ]
  },
  {
   "cell_type": "code",
   "execution_count": 16,
   "id": "ad04a0b8",
   "metadata": {},
   "outputs": [],
   "source": [
    "features = ['Group','Category','Rating','Var2','Var1']\n",
    "x = data[features]\n",
    "y = data['Purchased_ABC_product']"
   ]
  },
  {
   "cell_type": "code",
   "execution_count": 17,
   "id": "132976cc",
   "metadata": {},
   "outputs": [],
   "source": [
    "x_train,x_test,y_train,y_test = train_test_split(x,y,test_size=0.25,random_state=4)"
   ]
  },
  {
   "cell_type": "markdown",
   "id": "6c34ff4f",
   "metadata": {},
   "source": [
    "##### Decision tree"
   ]
  },
  {
   "cell_type": "code",
   "execution_count": 18,
   "id": "f9253185",
   "metadata": {},
   "outputs": [
    {
     "data": {
      "text/plain": [
       "0.7051115723923197"
      ]
     },
     "execution_count": 18,
     "metadata": {},
     "output_type": "execute_result"
    }
   ],
   "source": [
    "dtcl = tree.DecisionTreeClassifier()\n",
    "dtcl.fit(x_train,y_train)\n",
    "y_pred_dt = dtcl.predict(x_test)\n",
    "accuracy_score(y_test,y_pred_dt)"
   ]
  },
  {
   "cell_type": "code",
   "execution_count": 19,
   "id": "9f9e696a",
   "metadata": {},
   "outputs": [
    {
     "name": "stdout",
     "output_type": "stream",
     "text": [
      "Precision: 0.7083333333333334 Recall: 0.7048673705897502 F1 score: 0.7065961017167937\n"
     ]
    }
   ],
   "source": [
    "matrix = metrics.confusion_matrix(y_test,y_pred_dt)\n",
    "recall = recall_score(y_test,y_pred_dt)\n",
    "precision = precision_score(y_test,y_pred_dt)\n",
    "f1 = f1_score(y_test,y_pred_dt)\n",
    "print('Precision:',precision, 'Recall:',recall,'F1 score:',f1)"
   ]
  },
  {
   "cell_type": "markdown",
   "id": "195fde34",
   "metadata": {},
   "source": [
    "##### Random Forest"
   ]
  },
  {
   "cell_type": "code",
   "execution_count": 20,
   "id": "9aba6c79",
   "metadata": {},
   "outputs": [
    {
     "data": {
      "text/plain": [
       "0.7531136481577582"
      ]
     },
     "execution_count": 20,
     "metadata": {},
     "output_type": "execute_result"
    }
   ],
   "source": [
    "rc = RandomForestClassifier(max_depth=2, random_state=7)\n",
    "rc.fit(x_train, y_train)\n",
    "y_pred_rc = rc.predict(x_test)\n",
    "accuracy_score(y_test,y_pred_rc)"
   ]
  },
  {
   "cell_type": "code",
   "execution_count": 21,
   "id": "8cc8a668",
   "metadata": {},
   "outputs": [
    {
     "name": "stdout",
     "output_type": "stream",
     "text": [
      "Precision: 0.7275862068965517 Recall: 0.81509142415658 F1 score: 0.768857038746508\n"
     ]
    }
   ],
   "source": [
    "matrix1 = metrics.confusion_matrix(y_test,y_pred_rc)\n",
    "recall1 = recall_score(y_test,y_pred_rc)\n",
    "precision1 = precision_score(y_test,y_pred_rc)\n",
    "f1_1 = f1_score(y_test,y_pred_rc)\n",
    "print('Precision:',precision1, 'Recall:',recall1,'F1 score:',f1_1)"
   ]
  },
  {
   "cell_type": "markdown",
   "id": "dbdaeffb",
   "metadata": {},
   "source": [
    "##### Logistic regression"
   ]
  },
  {
   "cell_type": "code",
   "execution_count": 22,
   "id": "c8046053",
   "metadata": {},
   "outputs": [
    {
     "data": {
      "text/plain": [
       "0.7611572392319668"
      ]
     },
     "execution_count": 22,
     "metadata": {},
     "output_type": "execute_result"
    }
   ],
   "source": [
    "lr = LogisticRegression()\n",
    "lr.fit(x_train,y_train)\n",
    "y_pred = lr.predict(x_test)\n",
    "accuracy_score(y_test,y_pred)"
   ]
  },
  {
   "cell_type": "code",
   "execution_count": 23,
   "id": "4c218354",
   "metadata": {},
   "outputs": [
    {
     "name": "stdout",
     "output_type": "stream",
     "text": [
      "Precision: 0.7803404722679846 Recall: 0.7319083183105846 F1 score: 0.7553488372093022\n"
     ]
    }
   ],
   "source": [
    "recall2 = recall_score(y_test,y_pred)\n",
    "precision2 = precision_score(y_test,y_pred)\n",
    "f1_2 = f1_score(y_test,y_pred)\n",
    "print('Precision:',precision2, 'Recall:',recall2,'F1 score:',f1_2)"
   ]
  },
  {
   "cell_type": "code",
   "execution_count": 24,
   "id": "6d4b53c1",
   "metadata": {},
   "outputs": [
    {
     "data": {
      "text/plain": [
       "0.7613789957565995"
      ]
     },
     "execution_count": 24,
     "metadata": {},
     "output_type": "execute_result"
    }
   ],
   "source": [
    "metrics.roc_auc_score(y_test, y_pred)"
   ]
  },
  {
   "cell_type": "code",
   "execution_count": 25,
   "id": "0ba5edb6",
   "metadata": {},
   "outputs": [
    {
     "data": {
      "text/plain": [
       "array([[3025,  800],\n",
       "       [1041, 2842]], dtype=int64)"
      ]
     },
     "execution_count": 25,
     "metadata": {},
     "output_type": "execute_result"
    }
   ],
   "source": [
    "metrics.confusion_matrix(y_test,y_pred)"
   ]
  },
  {
   "cell_type": "code",
   "execution_count": 26,
   "id": "6b682693",
   "metadata": {},
   "outputs": [],
   "source": [
    "#find probability of purchase\n",
    "px = np.array(data[features])"
   ]
  },
  {
   "cell_type": "code",
   "execution_count": 27,
   "id": "04fbc79b",
   "metadata": {},
   "outputs": [],
   "source": [
    "probability = lr.predict_proba(px)"
   ]
  },
  {
   "cell_type": "code",
   "execution_count": 28,
   "id": "a328a077",
   "metadata": {},
   "outputs": [],
   "source": [
    "Prob = pd.DataFrame(probability)"
   ]
  },
  {
   "cell_type": "code",
   "execution_count": 29,
   "id": "3c5c10bc",
   "metadata": {},
   "outputs": [],
   "source": [
    "data['Probability of Purchase'] = Prob[1]"
   ]
  },
  {
   "cell_type": "code",
   "execution_count": 30,
   "id": "8562b1aa",
   "metadata": {},
   "outputs": [
    {
     "data": {
      "text/html": [
       "<div>\n",
       "<style scoped>\n",
       "    .dataframe tbody tr th:only-of-type {\n",
       "        vertical-align: middle;\n",
       "    }\n",
       "\n",
       "    .dataframe tbody tr th {\n",
       "        vertical-align: top;\n",
       "    }\n",
       "\n",
       "    .dataframe thead th {\n",
       "        text-align: right;\n",
       "    }\n",
       "</style>\n",
       "<table border=\"1\" class=\"dataframe\">\n",
       "  <thead>\n",
       "    <tr style=\"text-align: right;\">\n",
       "      <th></th>\n",
       "      <th>Customer_ID</th>\n",
       "      <th>Var1</th>\n",
       "      <th>Var2</th>\n",
       "      <th>Group</th>\n",
       "      <th>Category</th>\n",
       "      <th>Rating</th>\n",
       "      <th>Purchased_ABC_product</th>\n",
       "      <th>Probability of Purchase</th>\n",
       "    </tr>\n",
       "  </thead>\n",
       "  <tbody>\n",
       "    <tr>\n",
       "      <th>0</th>\n",
       "      <td>5518</td>\n",
       "      <td>0.545922</td>\n",
       "      <td>0.446687</td>\n",
       "      <td>0</td>\n",
       "      <td>0</td>\n",
       "      <td>0</td>\n",
       "      <td>0</td>\n",
       "      <td>0.900413</td>\n",
       "    </tr>\n",
       "    <tr>\n",
       "      <th>1</th>\n",
       "      <td>40515</td>\n",
       "      <td>0.387661</td>\n",
       "      <td>0.039549</td>\n",
       "      <td>0</td>\n",
       "      <td>0</td>\n",
       "      <td>0</td>\n",
       "      <td>0</td>\n",
       "      <td>0.115139</td>\n",
       "    </tr>\n",
       "    <tr>\n",
       "      <th>2</th>\n",
       "      <td>52697</td>\n",
       "      <td>0.535286</td>\n",
       "      <td>0.248965</td>\n",
       "      <td>0</td>\n",
       "      <td>1</td>\n",
       "      <td>2</td>\n",
       "      <td>0</td>\n",
       "      <td>0.654494</td>\n",
       "    </tr>\n",
       "    <tr>\n",
       "      <th>3</th>\n",
       "      <td>68202</td>\n",
       "      <td>0.617973</td>\n",
       "      <td>0.168771</td>\n",
       "      <td>0</td>\n",
       "      <td>0</td>\n",
       "      <td>1</td>\n",
       "      <td>0</td>\n",
       "      <td>0.343526</td>\n",
       "    </tr>\n",
       "    <tr>\n",
       "      <th>4</th>\n",
       "      <td>130003</td>\n",
       "      <td>0.558690</td>\n",
       "      <td>0.172728</td>\n",
       "      <td>0</td>\n",
       "      <td>0</td>\n",
       "      <td>1</td>\n",
       "      <td>0</td>\n",
       "      <td>0.365221</td>\n",
       "    </tr>\n",
       "    <tr>\n",
       "      <th>...</th>\n",
       "      <td>...</td>\n",
       "      <td>...</td>\n",
       "      <td>...</td>\n",
       "      <td>...</td>\n",
       "      <td>...</td>\n",
       "      <td>...</td>\n",
       "      <td>...</td>\n",
       "      <td>...</td>\n",
       "    </tr>\n",
       "    <tr>\n",
       "      <th>30824</th>\n",
       "      <td>7047231</td>\n",
       "      <td>0.414080</td>\n",
       "      <td>0.111279</td>\n",
       "      <td>4</td>\n",
       "      <td>2</td>\n",
       "      <td>0</td>\n",
       "      <td>1</td>\n",
       "      <td>0.307975</td>\n",
       "    </tr>\n",
       "    <tr>\n",
       "      <th>30825</th>\n",
       "      <td>7079889</td>\n",
       "      <td>0.550160</td>\n",
       "      <td>0.349242</td>\n",
       "      <td>4</td>\n",
       "      <td>0</td>\n",
       "      <td>0</td>\n",
       "      <td>1</td>\n",
       "      <td>0.792184</td>\n",
       "    </tr>\n",
       "    <tr>\n",
       "      <th>30826</th>\n",
       "      <td>7155901</td>\n",
       "      <td>0.472546</td>\n",
       "      <td>0.341539</td>\n",
       "      <td>4</td>\n",
       "      <td>0</td>\n",
       "      <td>0</td>\n",
       "      <td>1</td>\n",
       "      <td>0.789795</td>\n",
       "    </tr>\n",
       "    <tr>\n",
       "      <th>30827</th>\n",
       "      <td>7180919</td>\n",
       "      <td>0.408167</td>\n",
       "      <td>0.000000</td>\n",
       "      <td>4</td>\n",
       "      <td>2</td>\n",
       "      <td>0</td>\n",
       "      <td>0</td>\n",
       "      <td>0.119024</td>\n",
       "    </tr>\n",
       "    <tr>\n",
       "      <th>30828</th>\n",
       "      <td>7182208</td>\n",
       "      <td>0.459414</td>\n",
       "      <td>0.026350</td>\n",
       "      <td>4</td>\n",
       "      <td>3</td>\n",
       "      <td>0</td>\n",
       "      <td>0</td>\n",
       "      <td>0.165612</td>\n",
       "    </tr>\n",
       "  </tbody>\n",
       "</table>\n",
       "<p>30829 rows × 8 columns</p>\n",
       "</div>"
      ],
      "text/plain": [
       "       Customer_ID      Var1      Var2  Group  Category  Rating  \\\n",
       "0             5518  0.545922  0.446687      0         0       0   \n",
       "1            40515  0.387661  0.039549      0         0       0   \n",
       "2            52697  0.535286  0.248965      0         1       2   \n",
       "3            68202  0.617973  0.168771      0         0       1   \n",
       "4           130003  0.558690  0.172728      0         0       1   \n",
       "...            ...       ...       ...    ...       ...     ...   \n",
       "30824      7047231  0.414080  0.111279      4         2       0   \n",
       "30825      7079889  0.550160  0.349242      4         0       0   \n",
       "30826      7155901  0.472546  0.341539      4         0       0   \n",
       "30827      7180919  0.408167  0.000000      4         2       0   \n",
       "30828      7182208  0.459414  0.026350      4         3       0   \n",
       "\n",
       "       Purchased_ABC_product  Probability of Purchase  \n",
       "0                          0                 0.900413  \n",
       "1                          0                 0.115139  \n",
       "2                          0                 0.654494  \n",
       "3                          0                 0.343526  \n",
       "4                          0                 0.365221  \n",
       "...                      ...                      ...  \n",
       "30824                      1                 0.307975  \n",
       "30825                      1                 0.792184  \n",
       "30826                      1                 0.789795  \n",
       "30827                      0                 0.119024  \n",
       "30828                      0                 0.165612  \n",
       "\n",
       "[30829 rows x 8 columns]"
      ]
     },
     "execution_count": 30,
     "metadata": {},
     "output_type": "execute_result"
    }
   ],
   "source": [
    "data"
   ]
  },
  {
   "cell_type": "code",
   "execution_count": 31,
   "id": "a85ac65d",
   "metadata": {},
   "outputs": [],
   "source": [
    "data.to_csv('Final data.csv',index=False)"
   ]
  },
  {
   "cell_type": "code",
   "execution_count": null,
   "id": "80c35093",
   "metadata": {},
   "outputs": [],
   "source": []
  }
 ],
 "metadata": {
  "kernelspec": {
   "display_name": "Python 3",
   "language": "python",
   "name": "python3"
  },
  "language_info": {
   "codemirror_mode": {
    "name": "ipython",
    "version": 3
   },
   "file_extension": ".py",
   "mimetype": "text/x-python",
   "name": "python",
   "nbconvert_exporter": "python",
   "pygments_lexer": "ipython3",
   "version": "3.8.8"
  }
 },
 "nbformat": 4,
 "nbformat_minor": 5
}
